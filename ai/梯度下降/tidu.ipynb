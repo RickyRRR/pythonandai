{
 "cells": [
  {
   "cell_type": "code",
   "execution_count": 17,
   "metadata": {},
   "outputs": [
    {
     "name": "stdout",
     "output_type": "stream",
     "text": [
      "[[ 1.  1.]\n [ 1.  2.]\n [ 1.  3.]\n [ 1.  4.]\n [ 1.  5.]\n [ 1.  6.]\n [ 1.  7.]\n [ 1.  8.]\n [ 1.  9.]\n [ 1. 10.]\n [ 1. 11.]\n [ 1. 12.]\n [ 1. 13.]\n [ 1. 14.]\n [ 1. 15.]\n [ 1. 16.]\n [ 1. 17.]\n [ 1. 18.]\n [ 1. 19.]\n [ 1. 20.]]\n[[ 3]\n [ 4]\n [ 5]\n [ 5]\n [ 2]\n [ 4]\n [ 7]\n [ 8]\n [11]\n [ 8]\n [12]\n [11]\n [13]\n [13]\n [16]\n [17]\n [18]\n [17]\n [19]\n [21]]\n"
     ]
    }
   ],
   "source": [
    "import numpy as np\n",
    "# Size of the points dataset.\n",
    "m = 20\n",
    "#定义数据集和学习率\n",
    "# Points x-coordinate and dummy value (x0, x1).\n",
    "#ones生成初始值为1，长度为m的一位数组 zeros()初始值为0\n",
    "X0 = np.ones((m, 1))\n",
    "#arange(x,y) 一维数组 x是间隔  y是数组最后一位上限，不包含y \n",
    "#reshape 将一位数组转换成二维数组，reshape(x,y)x行y列 x*y=一位数组的长度\n",
    "X1 = np.arange(1, m+1).reshape(m, 1)\n",
    "X = np.hstack((X0, X1))\n",
    "print(X)\n",
    "\n",
    "# Points y-coordinate\n",
    "y = np.array([\n",
    "    3, 4, 5, 5, 2, 4, 7, 8, 11, 8, 12,\n",
    "    11, 13, 13, 16, 17, 18, 17, 19, 21\n",
    "]).reshape(m, 1)\n",
    "print(y)\n",
    "# The Learning Rate alpha.\n",
    "alpha = 0.01\n"
   ]
  },
  {
   "cell_type": "code",
   "execution_count": null,
   "metadata": {},
   "outputs": [],
   "source": [
    "#以矩阵向量的形式定义代价函数和代价函数的梯度\n",
    "def error_function(theta, X, y):\n",
    "    '''Error function J definition.'''\n",
    "    diff = np.dot(X, theta) - y\n",
    "    return (1./2*m) * np.dot(np.transpose(diff), diff)\n",
    "\n",
    "def gradient_function(theta, X, y):\n",
    "    '''Gradient of the function J definition.'''\n",
    "    diff = np.dot(X, theta) - y\n",
    "    return (1./m) * np.dot(np.transpose(X), diff)"
   ]
  },
  {
   "cell_type": "code",
   "execution_count": 13,
   "metadata": {},
   "outputs": [
    {
     "data": {
      "text/plain": [
       "array([ 1,  2,  3,  4,  5,  6,  7,  8,  9, 10, 11, 12, 13, 14, 15, 16, 17,\n       18, 19, 20])"
      ]
     },
     "execution_count": 13,
     "metadata": {},
     "output_type": "execute_result"
    }
   ],
   "source": [
    "X1 = np.arange(1, m+1) #.reshape(m, 1)\n",
    "\n",
    "X1"
   ]
  }
 ],
 "metadata": {
  "kernelspec": {
   "display_name": "Python 2",
   "language": "python",
   "name": "python2"
  },
  "language_info": {
   "codemirror_mode": {
    "name": "ipython",
    "version": 2
   },
   "file_extension": ".py",
   "mimetype": "text/x-python",
   "name": "python",
   "nbconvert_exporter": "python",
   "pygments_lexer": "ipython2",
   "version": "2.7.6"
  }
 },
 "nbformat": 4,
 "nbformat_minor": 0
}

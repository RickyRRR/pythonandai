{
 "cells": [
  {
   "cell_type": "code",
   "execution_count": null,
   "metadata": {
    "collapsed": false
   },
   "outputs": [],
   "source": [
    "import numpy as np\n",
    "#ones zeros empty \n",
    "np.zeros(3,dtype=int)  #默认是浮点型  一维数组\n",
    "# array:[0 0 0]\n",
    "\n",
    "np.zeros([2,3])  #二维数组\n",
    "#2行3列数组，值=1，默认为float\n",
    "x3 = np.ones((2,3))\n",
    "x4 = np.empty(3)\n",
    "\n",
    "# 创建一个3*5的浮点型数组，数组的值全部为3.14\n",
    "np.full((3,5),3.14)\n",
    "\n",
    "# 创建5个元素数组，这5个元素均匀分布到0到1之间\n",
    "np.linspace(0,1,5)\n",
    "# array([0.  , 0.25, 0.5 , 0.75, 1.  ])\n",
    "# 创建一个3*3的在0~1范围内的随机数组成的数组\n",
    "np.random.random((3,3))\n",
    "# array([[0.2131937 , 0.99476852, 0.12470957],\n",
    "#        [0.57641785, 0.00268608, 0.13124108],\n",
    "#        [0.0626813 , 0.73013671, 0.72995278]])\n",
    "\n",
    "\n",
    "#arange(x,y,m) 一维数组 x是起始值  y是数组最后一位上限，不包含y  m是间隔\n",
    "X1 = np.arange(2, 10,2)   \n",
    "# array([2, 4, 6, 8])\n",
    "#reshape 将一位数组转换成二维数组，reshape(x,y)x行y列 x*y=一位数组的长度\n",
    "X1.reshape(2,2)\n",
    "# array([[2, 4],\n",
    "#        [6, 8]])\n",
    "\n",
    "# 创建一个3*3的单位矩阵\n",
    "np.eye(3)\n",
    "# array([[1., 0., 0.],\n",
    "#        [0., 1., 0.],\n",
    "#        [0., 0., 1.]])"
   ]
  },
  {
   "cell_type": "code",
   "execution_count": 71,
   "metadata": {},
   "outputs": [
    {
     "name": "stdout",
     "output_type": "stream",
     "text": [
      "[1 2 3 4 5 6]\n"
     ]
    },
    {
     "data": {
      "text/plain": [
       "array([[1, 1, 1, 1],\n       [2, 2, 2, 2],\n       [3, 3, 3, 3]])"
      ]
     },
     "execution_count": 71,
     "metadata": {},
     "output_type": "execute_result"
    }
   ],
   "source": [
    "a=[1,2,3]\n",
    "b=[4,5,6]\n",
    "print(np.hstack((a,b)))\n",
    "\n",
    "# 输出：[1 2 3 4 5 6 ]\n",
    "a=[[1],[2],[3]]\n",
    "b=[[1],[2],[3]]\n",
    "c=[[1],[2],[3]]\n",
    "d=[[1],[2],[3]]\n",
    "np.hstack((a,b,c,d))\n",
    "# array([[1, 1, 1, 1],\n",
    "#        [2, 2, 2, 2],\n",
    "#        [3, 3, 3, 3]])"
   ]
  },
  {
   "cell_type": "code",
   "execution_count": 72,
   "metadata": {
    "collapsed": true
   },
   "outputs": [
    {
     "data": {
      "text/plain": [
       "array([[52, 28, 18],\n       [50, 31, 16],\n       [20, 14, 12]])"
      ]
     },
     "execution_count": 72,
     "metadata": {},
     "output_type": "execute_result"
    }
   ],
   "source": [
    "# 创建一个3*3的，[0，10)区间的随机整型数\n",
    "ranArr1 = np.random.randint(0,10,(3,3))\n",
    "ranArr2 = np.random.randint(0,5,(3,3))\n",
    "# randomArr = np.random.randn(3,4,int)\n",
    "# dot矩阵相乘\n",
    "dotArr = np.dot(ranArr1,ranArr2)\n",
    "dotArr\n",
    "\n"
   ]
  },
  {
   "cell_type": "code",
   "execution_count": 65,
   "metadata": {},
   "outputs": [
    {
     "data": {
      "text/plain": [
       "array([[[ 0,  4],\n        [ 1,  5],\n        [ 2,  6],\n        [ 3,  7]],\n\n       [[ 8, 12],\n        [ 9, 13],\n        [10, 14],\n        [11, 15]]])"
      ]
     },
     "execution_count": 65,
     "metadata": {},
     "output_type": "execute_result"
    }
   ],
   "source": [
    "#卧槽，真难 参考：https://www.cnblogs.com/sunshinewang/p/6893503.html\n",
    "#自己的理解\n",
    "#reshape最后两位参数2,4先组成平面2行4列，\n",
    "# [[ 0,  1,  2,  3],\n",
    "#     [ 4,  5,  6,  7]]  \n",
    "\n",
    "# [[ 8,  9, 10, 11],\n",
    "#         [12, 13, 14, 15]]\n",
    "# 第3维长度为2，这里先考虑3维，理解为纵向，两个平面纵向叠加，组成类似魔方的东西\n",
    "arr1 = np.arange(16).reshape(2,2,4)\n",
    "\n",
    "# 如果4维，由两个（2,2，2）的立体组成，一个立体由2个二行四列的平面组成，  先把第4维理解为时间，2个立体放在不同时间轴，\n",
    "arr2 = np.arange(16).reshape(2,2,2,2)\n",
    "\n",
    "# 转置 transpose\n",
    "#这里有个索引的概念，索引表示各个维度，索引0:形状2，索引1：形状：2，索引2：形状4\n",
    "# transpose((1,0,2))表示朝着索引2维度，将索引1和索引0两个维度组成的平面进行转置。前提是有个维度没变更适合swapaxes\n",
    "\n",
    "#原数组\n",
    "# array([[[ 0,  1,  2,  3],\n",
    "#         [ 4,  5,  6,  7]],\n",
    "# \n",
    "#        [[ 8,  9, 10, 11],\n",
    "#         [12, 13, 14, 15]]])\n",
    "arr1.transpose((2,0,1))\n",
    "# 转置后数组\n",
    "# array([[[ 0,  1,  2,  3],\n",
    "#         [ 8,  9, 10, 11]],\n",
    "# \n",
    "#        [[ 4,  5,  6,  7],\n",
    "#         [12, 13, 14, 15]]])\n",
    "# 比如，数值8开始的索引是[1,0,0]，变换后变成了[0,1,0]。 真抽象\n",
    "\n",
    "\n",
    "# 轴变换，索引1和索引2组成的平面转置就行了\n",
    "arr1.swapaxes(1,2)\n",
    "# array([[[ 0,  4],\n",
    "#         [ 1,  5],\n",
    "#         [ 2,  6],\n",
    "#         [ 3,  7]],\n",
    "# \n",
    "#        [[ 8, 12],\n",
    "#         [ 9, 13],\n",
    "#         [10, 14],\n",
    "#         [11, 15]]])\n",
    "# arr1"
   ]
  }
 ],
 "metadata": {
  "kernelspec": {
   "display_name": "Python 2",
   "language": "python",
   "name": "python2"
  },
  "language_info": {
   "codemirror_mode": {
    "name": "ipython",
    "version": 2
   },
   "file_extension": ".py",
   "mimetype": "text/x-python",
   "name": "python",
   "nbconvert_exporter": "python",
   "pygments_lexer": "ipython2",
   "version": "2.7.6"
  }
 },
 "nbformat": 4,
 "nbformat_minor": 0
}
